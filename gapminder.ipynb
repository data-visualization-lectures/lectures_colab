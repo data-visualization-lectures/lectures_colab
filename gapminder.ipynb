{
  "cells": [
    {
      "cell_type": "code",
      "execution_count": null,
      "metadata": {
        "id": "A7S9ntXkOISU"
      },
      "outputs": [],
      "source": [
        "import pandas as pd\n",
        "import plotly.express as px"
      ]
    },
    {
      "cell_type": "code",
      "execution_count": null,
      "metadata": {
        "id": "H81STOztOISV"
      },
      "outputs": [],
      "source": [
        "df = px.data.gapminder()\n",
        "print(df)"
      ]
    },
    {
      "cell_type": "code",
      "execution_count": null,
      "metadata": {
        "id": "05xDqhJyOISW"
      },
      "outputs": [],
      "source": [
        "# バブルチャートとして表示\n",
        "\n",
        "px.scatter(df.query(\"year==2007\"), x=\"gdpPercap\", y=\"lifeExp\", size=\"pop\", color=\"continent\",\n",
        "                 hover_name=\"country\", log_x=False, size_max=60)"
      ]
    },
    {
      "cell_type": "code",
      "execution_count": null,
      "metadata": {
        "id": "koTlCJLHOISW"
      },
      "outputs": [],
      "source": [
        "# バブルチャートとして表示して、時系列でアニメーションさせる\n",
        "\n",
        "px.scatter(df, x=\"gdpPercap\", y=\"lifeExp\", range_x=[100,100000], range_y=[25,90], size=\"pop\", color=\"continent\",\n",
        "            animation_frame=\"year\", animation_group=\"country\",\n",
        "            hover_name=\"country\", log_x=True, size_max=45)"
      ]
    },
    {
      "cell_type": "code",
      "execution_count": null,
      "metadata": {
        "id": "FuhytvrfOISW"
      },
      "outputs": [],
      "source": [
        "# バブルチャートとして表示して、時系列でアニメーションさせ、continent列でファセット分割する\n",
        "\n",
        "px.scatter(df, x=\"gdpPercap\", y=\"lifeExp\", range_x=[100,100000], range_y=[25,90], size=\"pop\", color=\"continent\",\n",
        "            animation_frame=\"year\", animation_group=\"country\",\n",
        "            hover_name=\"country\", log_x=True, size_max=45,\n",
        "            facet_col=\"continent\")"
      ]
    }
  ],
  "metadata": {
    "kernelspec": {
      "display_name": "Python 3 (ipykernel)",
      "language": "python",
      "name": "python3"
    },
    "language_info": {
      "codemirror_mode": {
        "name": "ipython",
        "version": 3
      },
      "file_extension": ".py",
      "mimetype": "text/x-python",
      "name": "python",
      "nbconvert_exporter": "python",
      "pygments_lexer": "ipython3",
      "version": "3.9.9"
    },
    "colab": {
      "provenance": []
    }
  },
  "nbformat": 4,
  "nbformat_minor": 0
}