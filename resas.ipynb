{
  "nbformat": 4,
  "nbformat_minor": 0,
  "metadata": {
    "colab": {
      "provenance": [],
      "toc_visible": true
    },
    "kernelspec": {
      "name": "python3",
      "display_name": "Python 3"
    }
  },
  "cells": [
    {
      "cell_type": "markdown",
      "metadata": {
        "id": "xDT32xq1Q5JA"
      },
      "source": [
        "## 設定"
      ]
    },
    {
      "cell_type": "code",
      "metadata": {
        "id": "nO6r3WvoQ767"
      },
      "source": [
        "### RESAS API ###\n",
        "\n",
        "# APIキー（ https://opendata.resas-portal.go.jp/ から取得）\n",
        "myResasKey = ''"
      ],
      "execution_count": null,
      "outputs": []
    },
    {
      "cell_type": "code",
      "metadata": {
        "id": "too26QZZbAEK"
      },
      "source": [
        "# GET方式（URL）による取得したいデータ問い合わせのためのURL\n",
        "\n",
        "# 固定部分\n",
        "urlFixed = 'https://opendata.resas-portal.go.jp/'"
      ],
      "execution_count": null,
      "outputs": []
    },
    {
      "cell_type": "code",
      "source": [
        "# 変動部分\n",
        "# prefCode：都道府県。13は東京都。\n",
        "# sicCode：大分類=J。\n",
        "\n",
        "urlQuery = 'api/v1/municipality/company/perYear?prefCode=13&sicCode=J'"
      ],
      "metadata": {
        "id": "_sWRbtHWa4iI"
      },
      "execution_count": null,
      "outputs": []
    },
    {
      "cell_type": "markdown",
      "metadata": {
        "id": "szOD20KPs1Zw"
      },
      "source": [
        "## 事前準備"
      ]
    },
    {
      "cell_type": "code",
      "metadata": {
        "id": "gdF4tyBiFHEa"
      },
      "source": [
        "# 必要なパッケージの読み込み\n",
        "import requests\n",
        "import json\n",
        "import pandas as pd\n",
        "import plotly.express as px"
      ],
      "execution_count": null,
      "outputs": []
    },
    {
      "cell_type": "markdown",
      "metadata": {
        "id": "CRTar3g2s7b1"
      },
      "source": [
        "## データの読み込み"
      ]
    },
    {
      "cell_type": "code",
      "metadata": {
        "id": "9So_cRolPI6o"
      },
      "source": [
        "responseData = json.loads(requests.get(urlFixed + urlQuery, headers={'X-API-KEY':myResasKey}).text)\n",
        "print(responseData)\n",
        "\n",
        "responseDF = pd.DataFrame(responseData)"
      ],
      "execution_count": null,
      "outputs": []
    },
    {
      "cell_type": "code",
      "metadata": {
        "id": "X87xHtRNQo11"
      },
      "source": [
        "# json -> Data Frame\n",
        "df = pd.DataFrame(responseData['result']['data'])\n",
        "\n",
        "df.head()"
      ],
      "execution_count": null,
      "outputs": []
    },
    {
      "cell_type": "code",
      "metadata": {
        "id": "3_1TyK68wBQx"
      },
      "source": [
        "titleString = responseData['result']['prefName'] + \" \" + responseData['result']['sicName'] + \"の企業数の推移\"\n",
        "\n",
        "print(titleString)"
      ],
      "execution_count": null,
      "outputs": []
    },
    {
      "cell_type": "markdown",
      "metadata": {
        "id": "o_qraCdqtAMA"
      },
      "source": [
        "## チャートの描画"
      ]
    },
    {
      "cell_type": "code",
      "metadata": {
        "id": "M6qZpNtguDAr"
      },
      "source": [
        "fig = px.line(df, x=\"year\", y=\"value\", title=titleString, render_mode=\"svg\")\n",
        "fig.show()"
      ],
      "execution_count": null,
      "outputs": []
    },
    {
      "cell_type": "code",
      "metadata": {
        "id": "pvyocst7WtPd"
      },
      "source": [
        "from google.colab import files\n",
        "import csv\n",
        "\n",
        "FILENAME = \"resas_\" + titleString + \".json\""
      ],
      "execution_count": null,
      "outputs": []
    },
    {
      "cell_type": "code",
      "source": [
        "responseDF.to_json(FILENAME)\n",
        "files.download(FILENAME)"
      ],
      "metadata": {
        "id": "Y3zvgg-9X7wJ"
      },
      "execution_count": null,
      "outputs": []
    }
  ]
}